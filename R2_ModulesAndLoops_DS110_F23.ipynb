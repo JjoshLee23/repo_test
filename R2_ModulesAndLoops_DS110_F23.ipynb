{
  "cells": [
    {
      "cell_type": "markdown",
      "metadata": {
        "id": "view-in-github",
        "colab_type": "text"
      },
      "source": [
        "<a href=\"https://colab.research.google.com/github/JjoshLee23/repo_test/blob/main/R2_ModulesAndLoops_DS110_F23.ipynb\" target=\"_parent\"><img src=\"https://colab.research.google.com/assets/colab-badge.svg\" alt=\"Open In Colab\"/></a>"
      ]
    },
    {
      "cell_type": "markdown",
      "metadata": {
        "id": "Bv4gY-7zzUHI"
      },
      "source": [
        "1.  Use matplotlib to plot the points:  (2,3), (4, 5), (8,9). Plot them as both points and lines connecting the points."
      ]
    },
    {
      "cell_type": "code",
      "execution_count": 19,
      "metadata": {
        "colab": {
          "base_uri": "https://localhost:8080/",
          "height": 448
        },
        "id": "brwrokHdzCSl",
        "outputId": "e28ca394-1cb3-43b5-9162-bdd79bebf525"
      },
      "outputs": [
        {
          "output_type": "execute_result",
          "data": {
            "text/plain": [
              "[<matplotlib.lines.Line2D at 0x7a1e5a17d900>]"
            ]
          },
          "metadata": {},
          "execution_count": 19
        },
        {
          "output_type": "display_data",
          "data": {
            "text/plain": [
              "<Figure size 640x480 with 1 Axes>"
            ],
            "image/png": "[encoded data removed]"
          },
          "metadata": {}
        }
      ],
      "source": [
        "import matplotlib.pyplot as plt\n",
        "import numpy as np\n",
        "x=[2,4,8]\n",
        "y=[3,5,9]\n",
        "plt.plot(x,y)\n",
        "plt.plot(x,y,\"ro\")\n"
      ]
    },
    {
      "cell_type": "markdown",
      "metadata": {
        "id": "v6K_7jYKdyKB"
      },
      "source": [
        "2.  Use a loop to find the average of the numbers in mylist."
      ]
    },
    {
      "cell_type": "code",
      "execution_count": 3,
      "metadata": {
        "colab": {
          "base_uri": "https://localhost:8080/"
        },
        "id": "Vp92PMARefVD",
        "outputId": "660a7a33-bfef-4d9c-cd3a-f3ecdf118702"
      },
      "outputs": [
        {
          "output_type": "stream",
          "name": "stdout",
          "text": [
            "8.4\n"
          ]
        }
      ],
      "source": [
        "mylist = [3, 4, 5, 10, 20]\n",
        "sum=0\n",
        "for number in mylist:\n",
        "  sum=number+sum\n",
        "average=sum/len(mylist)\n",
        "print(str(average))\n"
      ]
    },
    {
      "cell_type": "markdown",
      "metadata": {
        "id": "VO9G7bxHbNBI"
      },
      "source": [
        "3. Write a loop that iterates through every string in the list mystrings and builds a new list where all the strings of the original list are in upper case (use the upper() string method).  Hint:  start with an empty list and append() the modified strings as you iterate through."
      ]
    },
    {
      "cell_type": "code",
      "execution_count": 6,
      "metadata": {
        "colab": {
          "base_uri": "https://localhost:8080/"
        },
        "id": "zGKX3Pfpc0-9",
        "outputId": "7c61f7f4-395a-4a89-a45d-314ba1c7a259"
      },
      "outputs": [
        {
          "output_type": "stream",
          "name": "stdout",
          "text": [
            "['TO', 'BE', 'OR', 'NOT', 'TO', 'BE']\n"
          ]
        }
      ],
      "source": [
        "mystrings = ['To', 'be', 'or', 'not', 'to', 'be']\n",
        "\n",
        "mynewstring=[]\n",
        "for string in mystrings:\n",
        "  newstring=string.upper()\n",
        "  mynewstring.append(newstring)\n",
        "print(mynewstring)"
      ]
    },
    {
      "cell_type": "markdown",
      "metadata": {
        "id": "opDiGIln1PbC"
      },
      "source": [
        "4. Iterate through the following list of tuples to find and print the worst movie (movie with the lowest second element)."
      ]
    },
    {
      "cell_type": "code",
      "execution_count": 9,
      "metadata": {
        "colab": {
          "base_uri": "https://localhost:8080/"
        },
        "id": "Z1bHvgdI1Xsu",
        "outputId": "6c157962-31d3-44f9-d3c0-32945c9971aa"
      },
      "outputs": [
        {
          "output_type": "stream",
          "name": "stdout",
          "text": [
            "Cats\n"
          ]
        }
      ],
      "source": [
        "movies = [('Plan 9 from Outer Space', 2),\n",
        "          ('Cats', 1.5),\n",
        "          ('The Matrix Reloaded', 2),\n",
        "          ('The Fifth Element', 2.5)]\n",
        "min=movies[0][1]\n",
        "lowestmovie=''\n",
        "for name,rating in movies:\n",
        "  if(rating<min):\n",
        "    min=rating\n",
        "    lowestmovie=name\n",
        "print(lowestmovie)\n",
        "\n",
        ""
      ]
    },
    {
      "cell_type": "markdown",
      "metadata": {
        "id": "B3qinv7hz0w5"
      },
      "source": [
        "5. Write a loop that iterates through a list and prints every other item, starting with printing the 0th item.  (Hint:  If the index is divided by 2, the remainder should be 0 to print.)"
      ]
    },
    {
      "cell_type": "code",
      "execution_count": 12,
      "metadata": {
        "colab": {
          "base_uri": "https://localhost:8080/"
        },
        "id": "4gPr7u3-zzdO",
        "outputId": "c2d89100-8ee7-4dd4-a270-a0edcb71f22e"
      },
      "outputs": [
        {
          "output_type": "stream",
          "name": "stdout",
          "text": [
            "star wars\n",
            "avengers\n",
            "star trek\n"
          ]
        }
      ],
      "source": [
        "movies=['star wars','captain america','avengers','notebook','star trek']\n",
        "for i in range(len(movies)):\n",
        "  if(i%2==0):\n",
        "    print(movies[i])"
      ]
    },
    {
      "cell_type": "markdown",
      "metadata": {
        "id": "-rg1oeoDfofQ"
      },
      "source": [
        "6. Plot the curve $f(x) = x^3$ from x = 0 to x = 5.  Use np.linspace to get a lot of equally spaced x values, and recall that using exponentiation on a vector raises each element to that power."
      ]
    },
    {
      "cell_type": "code",
      "execution_count": 31,
      "metadata": {
        "colab": {
          "base_uri": "https://localhost:8080/",
          "height": 448
        },
        "id": "8LTRGG4ggRzX",
        "outputId": "7bddc749-e6f2-46bb-8dfd-23f5111bef3f"
      },
      "outputs": [
        {
          "output_type": "execute_result",
          "data": {
            "text/plain": [
              "[<matplotlib.lines.Line2D at 0x7a1e59ed0610>]"
            ]
          },
          "metadata": {},
          "execution_count": 31
        },
        {
          "output_type": "display_data",
          "data": {
            "text/plain": [
              "<Figure size 640x480 with 1 Axes>"
            ],
            "image/png": "[encoded data removed]"
          },
          "metadata": {}
        }
      ],
      "source": [
        "xpoints=np.linspace(0,5,100)\n",
        "ypoint = xpoints**3\n",
        "plt.plot(xpoints,ypoint)\n"
      ]
    },
    {
      "cell_type": "markdown",
      "metadata": {
        "id": "U4pvBR39nv4K"
      },
      "source": [
        "# Tool focus:  The Linter\n",
        "\n",
        "Besides just working, programs are also supposed to be human-readable.  For every programming language, there are a variety of rules that are commonly followed as a matter of convention in order to achieve a more consistent, readable style across programmers.  For example, when writing a=2+2, is it better to write a = 2 + 2?  (Yes.)"
      ]
    },
    {
      "cell_type": "markdown",
      "metadata": {
        "id": "Sn62fq8bnv4K"
      },
      "source": [
        "Rather than spend class time teaching these rules (which are laid out extensively for Python in a document called [PEP8](https://peps.python.org/pep-0008/)), we introduce you to a kind of program that checks your code for style \"violations\" automatically.  These kinds of programs are called \"linters.\"  We don't grade on style much in this course, but if you were to submit code as part of a job application process, you'd want to be sure it obeyed all the rules."
      ]
    },
    {
      "cell_type": "markdown",
      "metadata": {
        "id": "i3dOW3jhnv4K"
      },
      "source": [
        "Run the following to ensure the necessary libraries are present.\n"
      ]
    },
    {
      "cell_type": "code",
      "execution_count": 13,
      "metadata": {
        "colab": {
          "base_uri": "https://localhost:8080/"
        },
        "id": "m_BDZ1G2nv4K",
        "outputId": "2af78cd2-63af-443f-aaf8-b8898f921c79"
      },
      "outputs": [
        {
          "output_type": "stream",
          "name": "stdout",
          "text": [
            "Collecting pycodestyle\n",
            "  Downloading pycodestyle-2.11.0-py2.py3-none-any.whl (31 kB)\n",
            "Collecting pycodestyle_magic\n",
            "  Downloading pycodestyle_magic-0.5-py2.py3-none-any.whl (9.5 kB)\n",
            "Installing collected packages: pycodestyle_magic, pycodestyle\n",
            "Successfully installed pycodestyle-2.11.0 pycodestyle_magic-0.5\n",
            "Collecting flake8\n",
            "  Downloading flake8-6.1.0-py2.py3-none-any.whl (58 kB)\n",
            "\u001b[2K     \u001b[90m━━━━━━━━━━━━━━━━━━━━━━━━━━━━━━━━━━━━━━━━\u001b[0m \u001b[32m58.3/58.3 kB\u001b[0m \u001b[31m2.5 MB/s\u001b[0m eta \u001b[36m0:00:00\u001b[0m\n",
            "\u001b[?25hCollecting mccabe<0.8.0,>=0.7.0 (from flake8)\n",
            "  Downloading mccabe-0.7.0-py2.py3-none-any.whl (7.3 kB)\n",
            "Requirement already satisfied: pycodestyle<2.12.0,>=2.11.0 in /usr/local/lib/python3.10/dist-packages (from flake8) (2.11.0)\n",
            "Collecting pyflakes<3.2.0,>=3.1.0 (from flake8)\n",
            "  Downloading pyflakes-3.1.0-py2.py3-none-any.whl (62 kB)\n",
            "\u001b[2K     \u001b[90m━━━━━━━━━━━━━━━━━━━━━━━━━━━━━━━━━━━━━━━━\u001b[0m \u001b[32m62.6/62.6 kB\u001b[0m \u001b[31m7.6 MB/s\u001b[0m eta \u001b[36m0:00:00\u001b[0m\n",
            "\u001b[?25hInstalling collected packages: pyflakes, mccabe, flake8\n",
            "Successfully installed flake8-6.1.0 mccabe-0.7.0 pyflakes-3.1.0\n"
          ]
        }
      ],
      "source": [
        "!pip install pycodestyle pycodestyle_magic\n",
        "!pip install flake8\n",
        "%load_ext pycodestyle_magic"
      ]
    },
    {
      "cell_type": "markdown",
      "metadata": {
        "id": "3Z3j-Swinv4L"
      },
      "source": [
        "And now, for any code box that you want to check against style rules, begin the box with: %%pycodestyle"
      ]
    },
    {
      "cell_type": "code",
      "execution_count": 36,
      "metadata": {
        "colab": {
          "base_uri": "https://localhost:8080/"
        },
        "id": "J2dHyX4Mnv4L",
        "outputId": "5e53ad8c-72d6-41ad-a023-b0de4e78ef41"
      },
      "outputs": [
        {
          "output_type": "stream",
          "name": "stderr",
          "text": [
            "INFO:pycodestyle:4:1: W391 blank line at end of file\n"
          ]
        }
      ],
      "source": [
        "%%pycodestyle\n",
        "\n",
        "a = 2 + 2"
      ]
    },
    {
      "cell_type": "markdown",
      "metadata": {
        "id": "mqxMp3Tpnv4L"
      },
      "source": [
        "Try playing with the code box until the first lint error, about missing whitespace, goes away.  You can ignore the error about the blank line at the end of the file; that's just an artifact of using a code box.  Notice that the box doesn't actually run unless you remove the pycodestyle line."
      ]
    },
    {
      "cell_type": "markdown",
      "metadata": {
        "id": "_-gRsGAAnv4L"
      },
      "source": [
        "Here's a box with more style problems.  Try fixing them all, besides the blank line issue.  (Notice that some things that seem like bad style, like importing things you don't use, actually aren't detected; and some things you might have thought were syntax errors, like weird indentation, are just style issues.)"
      ]
    },
    {
      "cell_type": "code",
      "execution_count": 62,
      "metadata": {
        "colab": {
          "base_uri": "https://localhost:8080/"
        },
        "id": "AsCQ9p2hnv4L",
        "outputId": "7898b770-8bcd-42ea-ed6c-4cca9df75ce1"
      },
      "outputs": [
        {
          "output_type": "stream",
          "name": "stderr",
          "text": [
            "INFO:pycodestyle:6:1: W391 blank line at end of file\n"
          ]
        }
      ],
      "source": [
        "%%pycodestyle\n",
        "import numpy\n",
        "import math\n",
        "for i in range(5):\n",
        "    print(\"Happy birthday!\")"
      ]
    },
    {
      "cell_type": "markdown",
      "metadata": {
        "id": "ElBRr_S1nv4L"
      },
      "source": [
        "Try linting your answers to the problems earlier in this notebook, and show your style-compliant answers to the TA to finish this section.  (After linting, comment out %%pycodestyle so that the TA can see the real output.)\n",
        "\n",
        "You don't *have* to obey style rules, but you should be aware of how your habits differ from convention.  You might have to unlearn some habits if a future employer always runs a linter on your code (Google does)."
      ]
    },
    {
      "cell_type": "code",
      "execution_count": null,
      "metadata": {
        "id": "4uexnmdPnv4L"
      },
      "outputs": [],
      "source": []
    }
  ],
  "metadata": {
    "colab": {
      "provenance": [],
      "include_colab_link": true
    },
    "kernelspec": {
      "display_name": "Python 3",
      "language": "python",
      "name": "python3"
    },
    "language_info": {
      "codemirror_mode": {
        "name": "ipython",
        "version": 3
      },
      "file_extension": ".py",
      "mimetype": "text/x-python",
      "name": "python",
      "nbconvert_exporter": "python",
      "pygments_lexer": "ipython3",
      "version": "3.8.8"
    }
  },
  "nbformat": 4,
  "nbformat_minor": 0
}